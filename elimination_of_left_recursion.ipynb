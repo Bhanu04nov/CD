{
  "nbformat": 4,
  "nbformat_minor": 0,
  "metadata": {
    "colab": {
      "provenance": [],
      "authorship_tag": "ABX9TyNq0SPcKUlADe44G2iieWfx",
      "include_colab_link": true
    },
    "kernelspec": {
      "name": "python3",
      "display_name": "Python 3"
    },
    "language_info": {
      "name": "python"
    }
  },
  "cells": [
    {
      "cell_type": "markdown",
      "metadata": {
        "id": "view-in-github",
        "colab_type": "text"
      },
      "source": [
        "<a href=\"https://colab.research.google.com/github/Bhanu04nov/CD/blob/main/elimination_of_left_recursion.ipynb\" target=\"_parent\"><img src=\"https://colab.research.google.com/assets/colab-badge.svg\" alt=\"Open In Colab\"/></a>"
      ]
    },
    {
      "cell_type": "code",
      "execution_count": 1,
      "metadata": {
        "id": "OzOwZXl0AtG8",
        "outputId": "59972ee9-d4ab-4a98-d2a5-3968f8fd901f",
        "colab": {
          "base_uri": "https://localhost:8080/"
        }
      },
      "outputs": [
        {
          "output_type": "stream",
          "name": "stdout",
          "text": [
            "Writing eliminating_leftrecursion.c\n"
          ]
        }
      ],
      "source": [
        "%%writefile eliminating_leftrecursion.c\n",
        "#include<stdio.h>\n",
        "#include<stdlib.h>\n",
        "#include<string.h>\n",
        "\n",
        "#define SIZE 20\n",
        "\n",
        "int main()\n",
        "{\n",
        "    char pro[SIZE], alpha[SIZE], beta[SIZE];\n",
        "    int nont_terminal,i,j, index=3;\n",
        "\n",
        "    printf(\"Enter the Production as E->E|A: \");\n",
        "    scanf(\"%s\", pro);\n",
        "\n",
        "    nont_terminal=pro[0];\n",
        "    if(nont_terminal==pro[index]) //Checking if the Grammar is LEFT RECURSIVE\n",
        "    {\n",
        "        //Getting Alpha\n",
        "        for(i=++index,j=0;pro[i]!='|';i++,j++){\n",
        "            alpha[j]=pro[i];\n",
        "            //Checking if there is NO Vertical Bar (|)\n",
        "            if(pro[i+1]==0){\n",
        "                printf(\"This Grammar CAN'T BE REDUCED.\\n\");\n",
        "                exit(0); //Exit the Program\n",
        "            }\n",
        "        }\n",
        "        alpha[j]='\\0'; //String Ending NULL Character\n",
        "\n",
        "        if(pro[++i]!=0) //Checking if there is Character after Vertical Bar (|)\n",
        "        {\n",
        "            //Getting Beta\n",
        "            for(j=i,i=0;pro[j]!='\\0';i++,j++){\n",
        "                beta[i]=pro[j];\n",
        "            }\n",
        "            beta[i]='\\0'; //String Ending NULL character\n",
        "\n",
        "            //Showing Output without LEFT RECURSION\n",
        "            printf(\"\\nGrammar Without Left Recursion: \\n\\n\");\n",
        "            printf(\" %c->%s%c'\\n\", nont_terminal,beta,nont_terminal);\n",
        "            printf(\" %c'->%s%c'|#\\n\", nont_terminal,alpha,nont_terminal);\n",
        "        }\n",
        "        else\n",
        "            printf(\"This Grammar CAN'T be REDUCED.\\n\");\n",
        "    }\n",
        "    else\n",
        "        printf(\"\\n This Grammar is not LEFT RECURSIVE.\\n\");\n",
        "}"
      ]
    }
  ]
}