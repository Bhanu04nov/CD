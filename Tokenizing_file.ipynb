{
  "nbformat": 4,
  "nbformat_minor": 0,
  "metadata": {
    "colab": {
      "provenance": [],
      "authorship_tag": "ABX9TyOZe8qSw8qzx93JNoy8H0Z+",
      "include_colab_link": true
    },
    "kernelspec": {
      "name": "python3",
      "display_name": "Python 3"
    },
    "language_info": {
      "name": "python"
    }
  },
  "cells": [
    {
      "cell_type": "markdown",
      "metadata": {
        "id": "view-in-github",
        "colab_type": "text"
      },
      "source": [
        "<a href=\"https://colab.research.google.com/github/Bhanu04nov/CD/blob/main/Tokenizing_file.ipynb\" target=\"_parent\"><img src=\"https://colab.research.google.com/assets/colab-badge.svg\" alt=\"Open In Colab\"/></a>"
      ]
    },
    {
      "cell_type": "code",
      "execution_count": 8,
      "metadata": {
        "id": "MfL0t9Ve7Dt7"
      },
      "outputs": [],
      "source": [
        "keywords={\"auto\",\"break\",\"case\",\"char\",\"const\",\"continue\",\"default\",\"do\",\"double\",\"else\",\n",
        "          \"enum\",\"extern\",\"float\",\"for\",\"goto\",\"if\",\"int\",\"long\",\"register\",\"return\",\n",
        "          \"short\",\"signed\",\"sized\",\"static\",\"struct\",\"switch\",\"typedef\",\"union\",\n",
        "          \"unsigned\",\"void\",\"volatile\",\"while\",\"printf\",\"scanf\",\"%d\",\"include\",\"stdio.h\",\n",
        "          \"main\"}\n",
        "\n",
        "operators={\"+\",\"-\",\"*\",\"/\",\"<\",\">\",\"=\",\"<=\",\">=\",\"==\",\"++\",\"--\",\"%\"}\n",
        "\n",
        "delimiters={'(',')','{','}','[',']',',','#'}"
      ]
    },
    {
      "cell_type": "code",
      "source": [
        "def detect_keywords(text):\n",
        "    arr=[]\n",
        "    for word in text:\n",
        "      if word in keywords:\n",
        "        arr.append(word)\n",
        "    return list(set(arr))"
      ],
      "metadata": {
        "id": "pCwzFWX67fFt"
      },
      "execution_count": 9,
      "outputs": []
    },
    {
      "cell_type": "code",
      "source": [
        "def detect_operators(text):\n",
        "  arr=[]\n",
        "  for word in text:\n",
        "    if word in operators:\n",
        "      arr.append(word)\n",
        "  return list(set(arr))"
      ],
      "metadata": {
        "id": "ra9UVqsn7iDe"
      },
      "execution_count": 10,
      "outputs": []
    },
    {
      "cell_type": "code",
      "source": [
        "def detect_delimiters(text):\n",
        "  arr=[]\n",
        "  for word in text:\n",
        "    if word in delimiters:\n",
        "      arr.append(word)\n",
        "  return list(set(arr))"
      ],
      "metadata": {
        "id": "6C0LFfZ77sFT"
      },
      "execution_count": 11,
      "outputs": []
    },
    {
      "cell_type": "code",
      "source": [
        "def detect_num(text):\n",
        "  arr=[]\n",
        "  for word in text:\n",
        "    try:\n",
        "      a=int(word)\n",
        "      arr.append(word)\n",
        "    except:\n",
        "      pass\n",
        "  return list(set(arr))"
      ],
      "metadata": {
        "id": "7R3cx7zR7wCx"
      },
      "execution_count": 12,
      "outputs": []
    },
    {
      "cell_type": "code",
      "source": [
        "def detect_identifiers(text):\n",
        "  k=detect_keywords(text)\n",
        "  o=detect_operators(text)\n",
        "  d=detect_delimiters(text)\n",
        "  n=detect_num(text)\n",
        "  not_ident=k+o+d+n\n",
        "  arr=[]\n",
        "  for word in text:\n",
        "    if word not in not_ident:\n",
        "      arr.append(word)\n",
        "  return arr"
      ],
      "metadata": {
        "id": "xFnpnVfl72Ge"
      },
      "execution_count": 13,
      "outputs": []
    },
    {
      "cell_type": "code",
      "source": [
        "with open(\"example.txt\") as t:\n",
        "  text=t.read().split()\n",
        "print(\"KEYWORDS\",detect_keywords(text))\n",
        "print(\"OPERATORS\",detect_operators(text))\n",
        "print(\"DELIMITERS\",detect_delimiters(text))\n",
        "print(\"IDENTIFIERS\",detect_identifiers(text))\n",
        "print(\"NUMBERS\",detect_num(text))"
      ],
      "metadata": {
        "colab": {
          "base_uri": "https://localhost:8080/"
        },
        "id": "H3rP773S78-0",
        "outputId": "32489466-d484-47ec-db3e-51b813fcadc1"
      },
      "execution_count": 14,
      "outputs": [
        {
          "output_type": "stream",
          "name": "stdout",
          "text": [
            "KEYWORDS []\n",
            "OPERATORS []\n",
            "DELIMITERS []\n",
            "IDENTIFIERS ['Hi,', 'this', 'is', 'Bhanuteja.']\n",
            "NUMBERS []\n"
          ]
        }
      ]
    }
  ]
}