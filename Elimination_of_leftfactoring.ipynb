{
  "nbformat": 4,
  "nbformat_minor": 0,
  "metadata": {
    "colab": {
      "provenance": [],
      "authorship_tag": "ABX9TyOEFo3+ZTLAw52zHtyF/pBZ",
      "include_colab_link": true
    },
    "kernelspec": {
      "name": "python3",
      "display_name": "Python 3"
    },
    "language_info": {
      "name": "python"
    }
  },
  "cells": [
    {
      "cell_type": "markdown",
      "metadata": {
        "id": "view-in-github",
        "colab_type": "text"
      },
      "source": [
        "<a href=\"https://colab.research.google.com/github/Bhanu04nov/CD/blob/main/Elimination_of_leftfactoring.ipynb\" target=\"_parent\"><img src=\"https://colab.research.google.com/assets/colab-badge.svg\" alt=\"Open In Colab\"/></a>"
      ]
    },
    {
      "cell_type": "code",
      "execution_count": 1,
      "metadata": {
        "colab": {
          "base_uri": "https://localhost:8080/"
        },
        "id": "wj-cTfBiBZ3Z",
        "outputId": "5ad29201-cf1f-42d9-a789-ad4e0d8165c7"
      },
      "outputs": [
        {
          "output_type": "stream",
          "name": "stdout",
          "text": [
            "Writing elimination_leftfactoring.c\n"
          ]
        }
      ],
      "source": [
        "%%writefile elimination_leftfactoring.c\n",
        "#include\n",
        "#include\n",
        "int main()\n",
        "{\n",
        "    char gram[20],part1[20],part2[20],modifiedGram[20],newGram[20],tempGram[20];\n",
        "    int i,j=0,k=0,l=0,pos;\n",
        "    printf(\"Enter Production : A->\");\n",
        "    gets(gram);\n",
        "    for(i=0;gram[i]!='|';i++,j++)\n",
        "        part1[j]=gram[i];\n",
        "    part1[j]='\\0';\n",
        "    for(j=++i,i=0;gram[j]!='\\0';j++,i++)\n",
        "        part2[i]=gram[j];\n",
        "    part2[i]='\\0';\n",
        "    for(i=0;i%s\",modifiedGram);\n",
        "    printf(\"\\n X->%s\\n\",newGram);\n",
        "}"
      ]
    }
  ]
}